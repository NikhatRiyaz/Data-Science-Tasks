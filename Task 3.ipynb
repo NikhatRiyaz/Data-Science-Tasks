{
 "cells": [
  {
   "cell_type": "markdown",
   "id": "5b2954f8-93dc-4115-aa0e-6c6772f6983c",
   "metadata": {},
   "source": [
    "### Importing Libraries"
   ]
  },
  {
   "cell_type": "code",
   "execution_count": null,
   "id": "1b0230c3-c16d-42a2-972c-30e8227e31af",
   "metadata": {},
   "outputs": [],
   "source": [
    "import pandas as pd\n",
    "import numpy as np\n",
    "import matplotlib.pyplot as plt\n",
    "import seaborn as sns\n",
    "from datetime import datetime"
   ]
  },
  {
   "cell_type": "code",
   "execution_count": null,
   "id": "2fd8155d-5228-4415-b218-bfbc1fd314c8",
   "metadata": {},
   "outputs": [],
   "source": [
    "df = pd.read_csv(\"householdtask3.csv\")\n",
    "df.head(10)"
   ]
  },
  {
   "cell_type": "markdown",
   "id": "b0ddbd7f-065c-40ea-844b-6444406128d9",
   "metadata": {},
   "source": [
    "### Scatter Plot"
   ]
  },
  {
   "cell_type": "code",
   "execution_count": null,
   "id": "4d4244e0-4090-4464-98ae-3d37b67f7c51",
   "metadata": {},
   "outputs": [],
   "source": [
    "# Scatter plot with year against own\n",
    "plt.scatter(df.year,df.own)\n",
    "\n",
    "# Adding title\n",
    "plt.title(\"scatter plot\")\n",
    "\n",
    "#setting x and y labels\n",
    "plt.xlabel('year')\n",
    "plt.ylabel('own')\n",
    "\n",
    "# showing the result\n",
    "plt.show()"
   ]
  },
  {
   "cell_type": "code",
   "execution_count": null,
   "id": "20161be1-057d-4040-ac66-09daed78b4f0",
   "metadata": {},
   "outputs": [],
   "source": [
    "# Line chart with year against own\n",
    "plt.plot(df.year)\n",
    "plt.plot(df.own)\n",
    "\n",
    "#Adding title to plot\n",
    "plt.title('Line chart')\n",
    "\n",
    "#setting x and y labels\n",
    "plt.xlabel('year')\n",
    "plt.ylabel('own')\n",
    "\n",
    "#showing the result\n",
    "plt.show()"
   ]
  },
  {
   "cell_type": "code",
   "execution_count": null,
   "id": "749c50c3-28ce-4763-85d0-81fd1e2f8df7",
   "metadata": {},
   "outputs": [],
   "source": [
    "# Bar chart or Bar plot\n",
    "plt.bar(df.year,df.own)\n",
    "#Adding title to plot\n",
    "plt.title('Bar chart')\n",
    "#setting x and y labels\n",
    "plt.xlabel('year')\n",
    "plt.ylabel('own')\n",
    "#showing the result\n",
    "plt.show()"
   ]
  },
  {
   "cell_type": "code",
   "execution_count": null,
   "id": "105c7de4-5958-426d-8c86-229c7d3723de",
   "metadata": {},
   "outputs": [],
   "source": [
    "# Histogram\n",
    "plt.hist(df.income)\n",
    "#Adding title\n",
    "plt.title('Histogram')\n",
    "plt.show()"
   ]
  }
 ],
 "metadata": {
  "kernelspec": {
   "display_name": "Python 3 (ipykernel)",
   "language": "python",
   "name": "python3"
  },
  "language_info": {
   "codemirror_mode": {
    "name": "ipython",
    "version": 3
   },
   "file_extension": ".py",
   "mimetype": "text/x-python",
   "name": "python",
   "nbconvert_exporter": "python",
   "pygments_lexer": "ipython3",
   "version": "3.11.7"
  }
 },
 "nbformat": 4,
 "nbformat_minor": 5
}
