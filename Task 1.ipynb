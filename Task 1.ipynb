{
 "cells": [
  {
   "cell_type": "markdown",
   "id": "de6746d6-1322-4b47-ac1c-63de5fe2d478",
   "metadata": {},
   "source": [
    "# Python Data Structures\n",
    "# List\n",
    "- Create\n",
    "- Add\n",
    "- Remove\n",
    "- Modify"
   ]
  },
  {
   "cell_type": "code",
   "execution_count": null,
   "id": "b449d7a8-42ee-4446-9d5d-23c34ecc3445",
   "metadata": {},
   "outputs": [],
   "source": [
    "# Creating a list:\n",
    "my_list=[3,8,5,10,38]"
   ]
  },
  {
   "cell_type": "code",
   "execution_count": null,
   "id": "679ef213-6a08-4ffc-bf2a-d9a4af7a9c2a",
   "metadata": {},
   "outputs": [],
   "source": [
    "# Adding an element to list\n",
    "my_list.append(30) #To add a single number to list"
   ]
  },
  {
   "cell_type": "code",
   "execution_count": null,
   "id": "c8c33dcb-30cb-4e91-a789-ae5766d96511",
   "metadata": {},
   "outputs": [],
   "source": [
    "# Removing an element from list\n",
    "my_list.remove(8)"
   ]
  },
  {
   "cell_type": "code",
   "execution_count": null,
   "id": "c5a7966a-440a-4519-87f9-ad8c21283fc9",
   "metadata": {},
   "outputs": [],
   "source": [
    "# Modifying an element from list\n",
    "my_list[1]=22"
   ]
  },
  {
   "cell_type": "code",
   "execution_count": 22,
   "id": "fded070b-1659-4e77-b30e-2cd590d1813d",
   "metadata": {},
   "outputs": [
    {
     "name": "stdout",
     "output_type": "stream",
     "text": [
      "Updated list: [3, 22, 10, 38, 30]\n"
     ]
    }
   ],
   "source": [
    "print(\"Updated list:\",my_list)"
   ]
  },
  {
   "cell_type": "markdown",
   "id": "9f84b85f-a6ec-4a9a-a3f7-8f0558bb874a",
   "metadata": {},
   "source": [
    "# Dictionary\n",
    "- Create\n",
    "- Add\n",
    "- Remove\n",
    "- Modify"
   ]
  },
  {
   "cell_type": "code",
   "execution_count": 25,
   "id": "817d43b9-ddef-4fbd-a207-196c314b11bf",
   "metadata": {},
   "outputs": [],
   "source": [
    "# Creating a dictionary\n",
    "my_dict={'Name':'John','Age':45,'City':'Delhi'}"
   ]
  },
  {
   "cell_type": "code",
   "execution_count": 27,
   "id": "5b87b84c-80e8-40e1-be8a-9f6baf085417",
   "metadata": {},
   "outputs": [],
   "source": [
    "# Adding an element to dictionary\n",
    "my_dict['Gender']='Male'"
   ]
  },
  {
   "cell_type": "code",
   "execution_count": 29,
   "id": "b6325c2b-365d-4ec0-a25e-9cb5a8341021",
   "metadata": {},
   "outputs": [],
   "source": [
    "#Removing an element from dictionary\n",
    "del my_dict['Age']"
   ]
  },
  {
   "cell_type": "code",
   "execution_count": 30,
   "id": "331387f5-32a0-428c-bd08-fe107e648da5",
   "metadata": {},
   "outputs": [],
   "source": [
    "# Modifying an element of dictionary\n",
    "my_dict['City']='Mumbai'"
   ]
  },
  {
   "cell_type": "code",
   "execution_count": 31,
   "id": "a38e69d3-82b3-4652-b264-2cf3892eae52",
   "metadata": {},
   "outputs": [
    {
     "name": "stdout",
     "output_type": "stream",
     "text": [
      "Updated Dictionary {'Name': 'John', 'City': 'Mumbai', 'Gender': 'Male'}\n"
     ]
    }
   ],
   "source": [
    "print(\"Updated Dictionary\",my_dict)"
   ]
  },
  {
   "cell_type": "markdown",
   "id": "022e820f-8fd6-41eb-9e5e-03641d68ca7f",
   "metadata": {},
   "source": [
    "# Set\n",
    "- Create\n",
    "- Add\n",
    "- Remove\n",
    "- Modify"
   ]
  },
  {
   "cell_type": "code",
   "execution_count": 32,
   "id": "9bb85e3e-eddd-441d-b70b-90f5e8d0d7f5",
   "metadata": {},
   "outputs": [],
   "source": [
    "# Creating a set\n",
    "my_set={1,3,4,6,7,22}"
   ]
  },
  {
   "cell_type": "code",
   "execution_count": 33,
   "id": "e42b71e7-0ca0-4616-9ad8-344472ff9a3a",
   "metadata": {},
   "outputs": [],
   "source": [
    "# Adding an element \n",
    "my_set.add(66)"
   ]
  },
  {
   "cell_type": "code",
   "execution_count": 34,
   "id": "e6c971d3-f6ea-4ba0-b7c1-06b7eb3442f1",
   "metadata": {},
   "outputs": [],
   "source": [
    "# Removing an element\n",
    "my_set.remove(22)"
   ]
  },
  {
   "cell_type": "code",
   "execution_count": 35,
   "id": "ca669eed-bcba-4453-a207-7ca760b5b20d",
   "metadata": {},
   "outputs": [],
   "source": [
    "# Modifying an element\n",
    "my_set.discard(1)\n",
    "my_set.add(10)"
   ]
  },
  {
   "cell_type": "code",
   "execution_count": 36,
   "id": "e861a28d-3f55-491f-9c0c-3a5431952523",
   "metadata": {},
   "outputs": [
    {
     "name": "stdout",
     "output_type": "stream",
     "text": [
      "Updated Dictionary {66, 3, 4, 6, 7, 10}\n"
     ]
    }
   ],
   "source": [
    "print(\"Updated Dictionary\",my_set)"
   ]
  }
 ],
 "metadata": {
  "kernelspec": {
   "display_name": "Python 3 (ipykernel)",
   "language": "python",
   "name": "python3"
  },
  "language_info": {
   "codemirror_mode": {
    "name": "ipython",
    "version": 3
   },
   "file_extension": ".py",
   "mimetype": "text/x-python",
   "name": "python",
   "nbconvert_exporter": "python",
   "pygments_lexer": "ipython3",
   "version": "3.11.7"
  }
 },
 "nbformat": 4,
 "nbformat_minor": 5
}
